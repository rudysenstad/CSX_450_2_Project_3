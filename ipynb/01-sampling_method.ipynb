{
 "cells": [
  {
   "cell_type": "markdown",
   "metadata": {},
   "source": [
    "### Acquire the Data"
   ]
  },
  {
   "cell_type": "code",
   "execution_count": 42,
   "metadata": {},
   "outputs": [
    {
     "data": {
      "text/html": [
       "<table>\n",
       "<thead><tr><th scope=col>crime</th><th scope=col>zoned</th><th scope=col>industrial</th><th scope=col>river</th><th scope=col>nox</th><th scope=col>rooms</th><th scope=col>age</th><th scope=col>work_distance</th><th scope=col>radial_highway</th><th scope=col>tax_rate</th><th scope=col>student_teacher</th><th scope=col>african-american</th><th scope=col>lower_status</th><th scope=col>median_value</th></tr></thead>\n",
       "<tbody>\n",
       "\t<tr><td>0.00632</td><td>18     </td><td>2.31   </td><td>0      </td><td>0.538  </td><td>6.575  </td><td>65.2   </td><td>4.0900 </td><td>1      </td><td>296    </td><td>15.3   </td><td>396.90 </td><td>4.98   </td><td>24.0   </td></tr>\n",
       "\t<tr><td>0.02731</td><td> 0     </td><td>7.07   </td><td>0      </td><td>0.469  </td><td>6.421  </td><td>78.9   </td><td>4.9671 </td><td>2      </td><td>242    </td><td>17.8   </td><td>396.90 </td><td>9.14   </td><td>21.6   </td></tr>\n",
       "\t<tr><td>0.02729</td><td> 0     </td><td>7.07   </td><td>0      </td><td>0.469  </td><td>7.185  </td><td>61.1   </td><td>4.9671 </td><td>2      </td><td>242    </td><td>17.8   </td><td>392.83 </td><td>4.03   </td><td>34.7   </td></tr>\n",
       "\t<tr><td>0.03237</td><td> 0     </td><td>2.18   </td><td>0      </td><td>0.458  </td><td>6.998  </td><td>45.8   </td><td>6.0622 </td><td>3      </td><td>222    </td><td>18.7   </td><td>394.63 </td><td>2.94   </td><td>33.4   </td></tr>\n",
       "\t<tr><td>0.06905</td><td> 0     </td><td>2.18   </td><td>0      </td><td>0.458  </td><td>7.147  </td><td>54.2   </td><td>6.0622 </td><td>3      </td><td>222    </td><td>18.7   </td><td>396.90 </td><td>5.33   </td><td>36.2   </td></tr>\n",
       "\t<tr><td>0.02985</td><td> 0     </td><td>2.18   </td><td>0      </td><td>0.458  </td><td>6.430  </td><td>58.7   </td><td>6.0622 </td><td>3      </td><td>222    </td><td>18.7   </td><td>394.12 </td><td>5.21   </td><td>28.7   </td></tr>\n",
       "</tbody>\n",
       "</table>\n"
      ],
      "text/latex": [
       "\\begin{tabular}{r|llllllllllllll}\n",
       " crime & zoned & industrial & river & nox & rooms & age & work\\_distance & radial\\_highway & tax\\_rate & student\\_teacher & african-american & lower\\_status & median\\_value\\\\\n",
       "\\hline\n",
       "\t 0.00632 & 18      & 2.31    & 0       & 0.538   & 6.575   & 65.2    & 4.0900  & 1       & 296     & 15.3    & 396.90  & 4.98    & 24.0   \\\\\n",
       "\t 0.02731 &  0      & 7.07    & 0       & 0.469   & 6.421   & 78.9    & 4.9671  & 2       & 242     & 17.8    & 396.90  & 9.14    & 21.6   \\\\\n",
       "\t 0.02729 &  0      & 7.07    & 0       & 0.469   & 7.185   & 61.1    & 4.9671  & 2       & 242     & 17.8    & 392.83  & 4.03    & 34.7   \\\\\n",
       "\t 0.03237 &  0      & 2.18    & 0       & 0.458   & 6.998   & 45.8    & 6.0622  & 3       & 222     & 18.7    & 394.63  & 2.94    & 33.4   \\\\\n",
       "\t 0.06905 &  0      & 2.18    & 0       & 0.458   & 7.147   & 54.2    & 6.0622  & 3       & 222     & 18.7    & 396.90  & 5.33    & 36.2   \\\\\n",
       "\t 0.02985 &  0      & 2.18    & 0       & 0.458   & 6.430   & 58.7    & 6.0622  & 3       & 222     & 18.7    & 394.12  & 5.21    & 28.7   \\\\\n",
       "\\end{tabular}\n"
      ],
      "text/markdown": [
       "\n",
       "crime | zoned | industrial | river | nox | rooms | age | work_distance | radial_highway | tax_rate | student_teacher | african-american | lower_status | median_value | \n",
       "|---|---|---|---|---|---|\n",
       "| 0.00632 | 18      | 2.31    | 0       | 0.538   | 6.575   | 65.2    | 4.0900  | 1       | 296     | 15.3    | 396.90  | 4.98    | 24.0    | \n",
       "| 0.02731 |  0      | 7.07    | 0       | 0.469   | 6.421   | 78.9    | 4.9671  | 2       | 242     | 17.8    | 396.90  | 9.14    | 21.6    | \n",
       "| 0.02729 |  0      | 7.07    | 0       | 0.469   | 7.185   | 61.1    | 4.9671  | 2       | 242     | 17.8    | 392.83  | 4.03    | 34.7    | \n",
       "| 0.03237 |  0      | 2.18    | 0       | 0.458   | 6.998   | 45.8    | 6.0622  | 3       | 222     | 18.7    | 394.63  | 2.94    | 33.4    | \n",
       "| 0.06905 |  0      | 2.18    | 0       | 0.458   | 7.147   | 54.2    | 6.0622  | 3       | 222     | 18.7    | 396.90  | 5.33    | 36.2    | \n",
       "| 0.02985 |  0      | 2.18    | 0       | 0.458   | 6.430   | 58.7    | 6.0622  | 3       | 222     | 18.7    | 394.12  | 5.21    | 28.7    | \n",
       "\n",
       "\n"
      ],
      "text/plain": [
       "  crime   zoned industrial river nox   rooms age  work_distance radial_highway\n",
       "1 0.00632 18    2.31       0     0.538 6.575 65.2 4.0900        1             \n",
       "2 0.02731  0    7.07       0     0.469 6.421 78.9 4.9671        2             \n",
       "3 0.02729  0    7.07       0     0.469 7.185 61.1 4.9671        2             \n",
       "4 0.03237  0    2.18       0     0.458 6.998 45.8 6.0622        3             \n",
       "5 0.06905  0    2.18       0     0.458 7.147 54.2 6.0622        3             \n",
       "6 0.02985  0    2.18       0     0.458 6.430 58.7 6.0622        3             \n",
       "  tax_rate student_teacher african-american lower_status median_value\n",
       "1 296      15.3            396.90           4.98         24.0        \n",
       "2 242      17.8            396.90           9.14         21.6        \n",
       "3 242      17.8            392.83           4.03         34.7        \n",
       "4 222      18.7            394.63           2.94         33.4        \n",
       "5 222      18.7            396.90           5.33         36.2        \n",
       "6 222      18.7            394.12           5.21         28.7        "
      ]
     },
     "metadata": {},
     "output_type": "display_data"
    },
    {
     "data": {
      "text/html": [
       "<ol class=list-inline>\n",
       "\t<li>506</li>\n",
       "\t<li>14</li>\n",
       "</ol>\n"
      ],
      "text/latex": [
       "\\begin{enumerate*}\n",
       "\\item 506\n",
       "\\item 14\n",
       "\\end{enumerate*}\n"
      ],
      "text/markdown": [
       "1. 506\n",
       "2. 14\n",
       "\n",
       "\n"
      ],
      "text/plain": [
       "[1] 506  14"
      ]
     },
     "metadata": {},
     "output_type": "display_data"
    }
   ],
   "source": [
    "housing_data = data.frame(read.table(file='../data/housing.data', header=FALSE, sep=\"\"))\n",
    "colnames(housing_data) = c('crime','zoned','industrial','river','nox','rooms','age',\n",
    "                            'work_distance','radial_highway','tax_rate',\n",
    "                            'student_teacher','african-american','lower_status','median_value')\n",
    "head(housing_data)\n",
    "dim(housing_data)\n",
    "housing_data$river = factor(housing_data$river)\n",
    "housing_data$median_value <- NULL"
   ]
  },
  {
   "cell_type": "code",
   "execution_count": 43,
   "metadata": {},
   "outputs": [
    {
     "data": {
      "text/plain": [
       "     crime              zoned          industrial    river        nox        \n",
       " Min.   : 0.00632   Min.   :  0.00   Min.   : 0.46   0:471   Min.   :0.3850  \n",
       " 1st Qu.: 0.08204   1st Qu.:  0.00   1st Qu.: 5.19   1: 35   1st Qu.:0.4490  \n",
       " Median : 0.25651   Median :  0.00   Median : 9.69           Median :0.5380  \n",
       " Mean   : 3.61352   Mean   : 11.36   Mean   :11.14           Mean   :0.5547  \n",
       " 3rd Qu.: 3.67708   3rd Qu.: 12.50   3rd Qu.:18.10           3rd Qu.:0.6240  \n",
       " Max.   :88.97620   Max.   :100.00   Max.   :27.74           Max.   :0.8710  \n",
       "     rooms            age         work_distance    radial_highway  \n",
       " Min.   :3.561   Min.   :  2.90   Min.   : 1.130   Min.   : 1.000  \n",
       " 1st Qu.:5.886   1st Qu.: 45.02   1st Qu.: 2.100   1st Qu.: 4.000  \n",
       " Median :6.208   Median : 77.50   Median : 3.207   Median : 5.000  \n",
       " Mean   :6.285   Mean   : 68.57   Mean   : 3.795   Mean   : 9.549  \n",
       " 3rd Qu.:6.623   3rd Qu.: 94.08   3rd Qu.: 5.188   3rd Qu.:24.000  \n",
       " Max.   :8.780   Max.   :100.00   Max.   :12.127   Max.   :24.000  \n",
       "    tax_rate     student_teacher african-american  lower_status  \n",
       " Min.   :187.0   Min.   :12.60   Min.   :  0.32   Min.   : 1.73  \n",
       " 1st Qu.:279.0   1st Qu.:17.40   1st Qu.:375.38   1st Qu.: 6.95  \n",
       " Median :330.0   Median :19.05   Median :391.44   Median :11.36  \n",
       " Mean   :408.2   Mean   :18.46   Mean   :356.67   Mean   :12.65  \n",
       " 3rd Qu.:666.0   3rd Qu.:20.20   3rd Qu.:396.23   3rd Qu.:16.95  \n",
       " Max.   :711.0   Max.   :22.00   Max.   :396.90   Max.   :37.97  "
      ]
     },
     "metadata": {},
     "output_type": "display_data"
    }
   ],
   "source": [
    "summary(housing_data)"
   ]
  },
  {
   "cell_type": "code",
   "execution_count": 44,
   "metadata": {},
   "outputs": [],
   "source": [
    "# install.packages(\"moments\")\n",
    "library(moments)"
   ]
  },
  {
   "cell_type": "code",
   "execution_count": 45,
   "metadata": {},
   "outputs": [
    {
     "data": {
      "text/html": [
       "<table>\n",
       "<thead><tr><th scope=col>feature</th><th scope=col>mean_</th><th scope=col>sd_</th><th scope=col>skewness_</th></tr></thead>\n",
       "<tbody>\n",
       "\t<tr><td>crime           </td><td>  3.6135236     </td><td>  8.6015451     </td><td> 5.2076524      </td></tr>\n",
       "\t<tr><td>zoned           </td><td> 11.3636364     </td><td> 23.3224530     </td><td> 2.2190631      </td></tr>\n",
       "\t<tr><td>industrial      </td><td> 11.1367787     </td><td>  6.8603529     </td><td> 0.2941463      </td></tr>\n",
       "\t<tr><td>nox             </td><td>  0.5546951     </td><td>  0.1158777     </td><td> 0.7271442      </td></tr>\n",
       "\t<tr><td>rooms           </td><td>  6.2846344     </td><td>  0.7026171     </td><td> 0.4024147      </td></tr>\n",
       "\t<tr><td>age             </td><td> 68.5749012     </td><td> 28.1488614     </td><td>-0.5971856      </td></tr>\n",
       "\t<tr><td>work_distance   </td><td>  3.7950427     </td><td>  2.1057101     </td><td> 1.0087788      </td></tr>\n",
       "\t<tr><td>radial_highway  </td><td>  9.5494071     </td><td>  8.7072594     </td><td> 1.0018335      </td></tr>\n",
       "\t<tr><td>tax_rate        </td><td>408.2371542     </td><td>168.5371161     </td><td> 0.6679683      </td></tr>\n",
       "\t<tr><td>student_teacher </td><td> 18.4555336     </td><td>  2.1649455     </td><td>-0.7999445      </td></tr>\n",
       "\t<tr><td>african-american</td><td>356.6740316     </td><td> 91.2948644     </td><td>-2.8817983      </td></tr>\n",
       "\t<tr><td>lower_status    </td><td> 12.6530632     </td><td>  7.1410615     </td><td> 0.9037707      </td></tr>\n",
       "</tbody>\n",
       "</table>\n"
      ],
      "text/latex": [
       "\\begin{tabular}{r|llll}\n",
       " feature & mean\\_ & sd\\_ & skewness\\_\\\\\n",
       "\\hline\n",
       "\t crime            &   3.6135236      &   8.6015451      &  5.2076524      \\\\\n",
       "\t zoned            &  11.3636364      &  23.3224530      &  2.2190631      \\\\\n",
       "\t industrial       &  11.1367787      &   6.8603529      &  0.2941463      \\\\\n",
       "\t nox              &   0.5546951      &   0.1158777      &  0.7271442      \\\\\n",
       "\t rooms            &   6.2846344      &   0.7026171      &  0.4024147      \\\\\n",
       "\t age              &  68.5749012      &  28.1488614      & -0.5971856      \\\\\n",
       "\t work\\_distance    &   3.7950427        &   2.1057101        &  1.0087788        \\\\\n",
       "\t radial\\_highway   &   9.5494071        &   8.7072594        &  1.0018335        \\\\\n",
       "\t tax\\_rate         & 408.2371542        & 168.5371161        &  0.6679683        \\\\\n",
       "\t student\\_teacher  &  18.4555336        &   2.1649455        & -0.7999445        \\\\\n",
       "\t african-american & 356.6740316      &  91.2948644      & -2.8817983      \\\\\n",
       "\t lower\\_status     &  12.6530632        &   7.1410615        &  0.9037707        \\\\\n",
       "\\end{tabular}\n"
      ],
      "text/markdown": [
       "\n",
       "feature | mean_ | sd_ | skewness_ | \n",
       "|---|---|---|---|---|---|---|---|---|---|---|---|\n",
       "| crime            |   3.6135236      |   8.6015451      |  5.2076524       | \n",
       "| zoned            |  11.3636364      |  23.3224530      |  2.2190631       | \n",
       "| industrial       |  11.1367787      |   6.8603529      |  0.2941463       | \n",
       "| nox              |   0.5546951      |   0.1158777      |  0.7271442       | \n",
       "| rooms            |   6.2846344      |   0.7026171      |  0.4024147       | \n",
       "| age              |  68.5749012      |  28.1488614      | -0.5971856       | \n",
       "| work_distance    |   3.7950427      |   2.1057101      |  1.0087788       | \n",
       "| radial_highway   |   9.5494071      |   8.7072594      |  1.0018335       | \n",
       "| tax_rate         | 408.2371542      | 168.5371161      |  0.6679683       | \n",
       "| student_teacher  |  18.4555336      |   2.1649455      | -0.7999445       | \n",
       "| african-american | 356.6740316      |  91.2948644      | -2.8817983       | \n",
       "| lower_status     |  12.6530632      |   7.1410615      |  0.9037707       | \n",
       "\n",
       "\n"
      ],
      "text/plain": [
       "   feature          mean_       sd_         skewness_ \n",
       "1  crime              3.6135236   8.6015451  5.2076524\n",
       "2  zoned             11.3636364  23.3224530  2.2190631\n",
       "3  industrial        11.1367787   6.8603529  0.2941463\n",
       "4  nox                0.5546951   0.1158777  0.7271442\n",
       "5  rooms              6.2846344   0.7026171  0.4024147\n",
       "6  age               68.5749012  28.1488614 -0.5971856\n",
       "7  work_distance      3.7950427   2.1057101  1.0087788\n",
       "8  radial_highway     9.5494071   8.7072594  1.0018335\n",
       "9  tax_rate         408.2371542 168.5371161  0.6679683\n",
       "10 student_teacher   18.4555336   2.1649455 -0.7999445\n",
       "11 african-american 356.6740316  91.2948644 -2.8817983\n",
       "12 lower_status      12.6530632   7.1410615  0.9037707"
      ]
     },
     "metadata": {},
     "output_type": "display_data"
    }
   ],
   "source": [
    "housing_features = Filter(is.numeric, housing_data)\n",
    "stats = data.frame(feature=colnames(housing_features))\n",
    "stats['mean_'] = sapply(housing_features, mean)\n",
    "stats['sd_'] = sapply(housing_features, sd)\n",
    "stats['skewness_'] = sapply(housing_features, skewness)\n",
    "stats"
   ]
  },
  {
   "cell_type": "markdown",
   "metadata": {},
   "source": [
    "### Develop a Sampling Technique"
   ]
  },
  {
   "cell_type": "markdown",
   "metadata": {},
   "source": [
    "1. Demonstrate a sample size and/or method that is sufficient to describe the dataset\n",
    "2. Pull samples of different sizes\n",
    "3. Compare these samples to the original data."
   ]
  },
  {
   "cell_type": "code",
   "execution_count": 46,
   "metadata": {},
   "outputs": [],
   "source": [
    "library(dplyr, warn.conflicts = FALSE)\n",
    "library(ggplot2)\n",
    "library(repr)\n",
    "# install.packages(\"cowplot\")\n",
    "library(cowplot)"
   ]
  },
  {
   "cell_type": "code",
   "execution_count": 50,
   "metadata": {},
   "outputs": [
    {
     "name": "stdout",
     "output_type": "stream",
     "text": [
      "Sampling replicated 10 times with average stdev  -0.02003788 \n",
      "Sampling replicated 50 times with average stdev  -0.02817344 \n",
      "Sampling replicated 100 times with average stdev  0.007497068 \n",
      "Sampling replicated 150 times with average stdev  0.001347965 \n",
      "Sampling replicated 200 times with average stdev  0.00385527 \n",
      "Let's use the iteration count with the stdev closest to Zero: 150 \n",
      "Sampling size 10  with average stdev  0.006846089 \n",
      "Sampling size 35  with average stdev  -0.003836925 \n",
      "Sampling size 60  with average stdev  0.003875626 \n",
      "Sampling size 85  with average stdev  0.002550569 \n",
      "Sampling size 110  with average stdev  -0.003322471 \n",
      "Sampling size 135  with average stdev  -0.0001184723 \n",
      "Sampling size 160  with average stdev  0.001648302 \n",
      "Sampling size 185  with average stdev  -0.001746763 \n",
      "Sampling size 210  with average stdev  0.00269758 \n",
      "Sampling size 235  with average stdev  -8.663515e-05 \n",
      "Sampling size 260  with average stdev  0.001636197 \n",
      "Sampling size 285  with average stdev  -0.0008573728 \n",
      "Sampling size 310  with average stdev  0.0004292531 \n",
      "Sampling size 335  with average stdev  0.0005698967 \n",
      "Sampling size 360  with average stdev  -0.0002915432 \n",
      "Sampling size 385  with average stdev  -0.0004333956 \n",
      "Sampling size 410  with average stdev  -0.0005984469 \n",
      "Sampling size 435  with average stdev  0.0007014204 \n",
      "Sampling size 460  with average stdev  0.0007915747 \n",
      "Sampling size 485  with average stdev  0.000530489 \n"
     ]
    },
    {
     "data": {},
     "metadata": {},
     "output_type": "display_data"
    },
    {
     "data": {
      "image/png": "[encoded data removed]",
      "text/plain": [
       "plot without title"
      ]
     },
     "metadata": {},
     "output_type": "display_data"
    }
   ],
   "source": [
    "compute_scaled_stdev <- function(df, df_stats, sample_size) {\n",
    "    (colMeans(sample_n(df, sample_size)) - df_stats$mean_ ) / df_stats$sd_\n",
    "}\n",
    "\n",
    "compute_sample_size_accuracy <- function(df, df_stats, sample_size, loops) {\n",
    "    rowMeans(replicate(loops, compute_scaled_stdev(df, df_stats, sample_size)))\n",
    "}\n",
    "\n",
    "iteration_count = c(10, 50, 100, 150, 200)\n",
    "iteration_stdev = c()\n",
    "for(i in iteration_count) {\n",
    "    results = compute_sample_size_accuracy(housing_features, stats, 20, i)\n",
    "    iteration_stdev <- c(iteration_stdev, mean(results))\n",
    "    cat(\"Sampling replicated\", i, \"times with average stdev \", tail(iteration_stdev, n=1), \"\\n\", sep=\" \")\n",
    "}\n",
    "df = data.frame(iterations=c(0,iteration_count), stdev=c(0,iteration_stdev))\n",
    "options(repr.plot.width=8, repr.plot.height=2)\n",
    "plots1 = ggplot(data=df, aes(x=iterations, y=stdev, group=1)) + geom_line()+ geom_point()\n",
    "\n",
    "\n",
    "best_loop_count = iteration_count[which.min(abs(iteration_stdev))]\n",
    "cat(\"Let's use the iteration count with the stdev closest to Zero:\", best_loop_count, \"\\n\", sep=\" \")\n",
    "\n",
    "\n",
    "sample_sizes = seq(10, 500, 25)\n",
    "sample_size_stdev = c()\n",
    "for(i in sample_sizes) {\n",
    "    results = compute_sample_size_accuracy(housing_features, stats, i, best_loop_count)\n",
    "    sample_size_stdev = c(sample_size_stdev, mean(results))\n",
    "    cat(\"Sampling size\", i, \" with average stdev \", tail(sample_size_stdev, n=1), \"\\n\", sep=\" \")\n",
    "}\n",
    "df = data.frame(sample_size=c(0, sample_sizes), stdev=c(0, sample_size_stdev))\n",
    "plots2 = ggplot(data=df, aes(x=sample_size, y=stdev, group=1)) + geom_line() + geom_point()\n",
    "plot_grid(plots1, plots2, labels = \"AUTO\")"
   ]
  },
  {
   "cell_type": "markdown",
   "metadata": {},
   "source": [
    "### Discuss how much data do you need to get a description of the dataset"
   ]
  },
  {
   "cell_type": "markdown",
   "metadata": {},
   "source": [
    "From plot B of the sample size, we can see the stdev starts to approach 0 around a sample set size of 150 but doesn't fully settle until about 300 samples."
   ]
  },
  {
   "cell_type": "code",
   "execution_count": null,
   "metadata": {},
   "outputs": [],
   "source": []
  }
 ],
 "metadata": {
  "kernelspec": {
   "display_name": "R",
   "language": "R",
   "name": "ir"
  },
  "language_info": {
   "codemirror_mode": "r",
   "file_extension": ".r",
   "mimetype": "text/x-r-source",
   "name": "R",
   "pygments_lexer": "r",
   "version": "3.3.2"
  }
 },
 "nbformat": 4,
 "nbformat_minor": 2
}
