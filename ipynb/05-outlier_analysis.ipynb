{
 "cells": [
  {
   "cell_type": "code",
   "execution_count": 1,
   "metadata": {},
   "outputs": [],
   "source": [
    "library(dplyr, warn.conflicts = FALSE)\n",
    "library(moments)\n",
    "library(ggplot2)\n",
    "library(repr)\n",
    "source('multiplot.r')\n",
    "options(repr.plot.width=10, repr.plot.height=2) "
   ]
  },
  {
   "cell_type": "code",
   "execution_count": 2,
   "metadata": {},
   "outputs": [],
   "source": [
    "housing_data <- data.frame(read.table(file='../data/housing.data', header=FALSE, sep=\"\"))\n",
    "colnames(housing_data) <- c('CRIM','ZN','INDUS','CHAS','NOX','RM','AGE','DIS','RAD','TAX','PTRATIO','B','LSTAT','MEDV')\n",
    "housing_data$MEDV <- NULL\n",
    "housing_data$CHAS = factor(housing_data$CHAS)\n",
    "housing_features = Filter(is.numeric, housing_data)"
   ]
  },
  {
   "cell_type": "markdown",
   "metadata": {},
   "source": [
    "# Outlier Analysis (Extra Credit)"
   ]
  },
  {
   "cell_type": "markdown",
   "metadata": {},
   "source": [
    "### Use Tukey's method to identify outliers for each feature"
   ]
  },
  {
   "cell_type": "code",
   "execution_count": 3,
   "metadata": {},
   "outputs": [
    {
     "name": "stdout",
     "output_type": "stream",
     "text": [
      "Q1:  0.082045 and Q3:  3.677083 \n",
      "CRIM :: 66 12 \n",
      " \n",
      "Q1:  0 and Q3:  12.5 \n",
      "ZN :: 68 12 \n",
      " \n",
      "Q1:  5.19 and Q3:  18.1 \n",
      "INDUS :: 0 12 \n",
      " \n",
      "Q1:  0.449 and Q3:  0.624 \n",
      "NOX :: 0 12 \n",
      " \n",
      "Q1:  5.8855 and Q3:  6.6235 \n",
      "RM :: 30 12 \n",
      " \n",
      "Q1:  45.025 and Q3:  94.075 \n",
      "AGE :: 0 12 \n",
      " \n",
      "Q1:  2.100175 and Q3:  5.188425 \n",
      "DIS :: 5 12 \n",
      " \n",
      "Q1:  4 and Q3:  24 \n",
      "RAD :: 0 12 \n",
      " \n",
      "Q1:  279 and Q3:  666 \n",
      "TAX :: 0 12 \n",
      " \n",
      "Q1:  17.4 and Q3:  20.2 \n",
      "PTRATIO :: 15 12 \n",
      " \n",
      "Q1:  375.3775 and Q3:  396.225 \n",
      "B :: 77 12 \n",
      " \n",
      "Q1:  6.95 and Q3:  16.955 \n",
      "LSTAT :: 7 12 \n",
      " \n"
     ]
    }
   ],
   "source": [
    "display_outliers <- function(col_, df, param=1.5){\n",
    "    quantile_ = quantile(df[[col_]])\n",
    "    Q1 = quantile_[2]\n",
    "    Q3 = quantile_[4]\n",
    "    cat(\"Q1: \", Q1, \"and Q3: \", Q3, \"\\n\")\n",
    "    tukey_window = param*(Q3-Q1)\n",
    "    outliers <- df[df[[col_]] < (Q1 - tukey_window) | df[[col_]] > Q3 + tukey_window,]\n",
    "    cat(col_,\"::\", dim(outliers),\"\\n\", \"\\n\", sep=\" \")\n",
    "    outliers\n",
    "}\n",
    "\n",
    "outlier_df <- data.frame(sapply(colnames(housing_features), display_outliers, df=housing_features))\n",
    "\n",
    "# for(i in colnames(housing_features)) {\n",
    "#     x <- display_outliers(i, housing_features)\n",
    "#     cat(i,\"::\", dim(x),\"\\n\", \"\\n\", sep=\" \")\n",
    "# }\n",
    "\n",
    "# x"
   ]
  },
  {
   "cell_type": "markdown",
   "metadata": {},
   "source": [
    "### Identify each instance that is an outlier for more than one feature"
   ]
  },
  {
   "cell_type": "code",
   "execution_count": 4,
   "metadata": {},
   "outputs": [
    {
     "name": "stdout",
     "output_type": "stream",
     "text": [
      "Q1:  0.082045 and Q3:  3.677083 \n",
      "Q1:  0 and Q3:  12.5 \n",
      "Q1:  5.19 and Q3:  18.1 \n",
      "Q1:  0.449 and Q3:  0.624 \n",
      "Q1:  5.8855 and Q3:  6.6235 \n",
      "Q1:  45.025 and Q3:  94.075 \n",
      "Q1:  2.100175 and Q3:  5.188425 \n",
      "Q1:  4 and Q3:  24 \n",
      "Q1:  279 and Q3:  666 \n",
      "Q1:  17.4 and Q3:  20.2 \n",
      "Q1:  375.3775 and Q3:  396.225 \n",
      "Q1:  6.95 and Q3:  16.955 \n"
     ]
    },
    {
     "data": {
      "text/html": [
       "<ol class=list-inline>\n",
       "\t<li>196</li>\n",
       "\t<li>197</li>\n",
       "\t<li>198</li>\n",
       "\t<li>199</li>\n",
       "\t<li>204</li>\n",
       "\t<li>205</li>\n",
       "\t<li>258</li>\n",
       "\t<li>263</li>\n",
       "\t<li>268</li>\n",
       "\t<li>284</li>\n",
       "\t<li>287</li>\n",
       "\t<li>352</li>\n",
       "\t<li>353</li>\n",
       "\t<li>354</li>\n",
       "\t<li>355</li>\n",
       "\t<li>356</li>\n",
       "\t<li>368</li>\n",
       "\t<li>374</li>\n",
       "\t<li>375</li>\n",
       "\t<li>385</li>\n",
       "\t<li>387</li>\n",
       "\t<li>388</li>\n",
       "\t<li>400</li>\n",
       "\t<li>405</li>\n",
       "\t<li>407</li>\n",
       "\t<li>408</li>\n",
       "\t<li>410</li>\n",
       "\t<li>411</li>\n",
       "\t<li>412</li>\n",
       "\t<li>413</li>\n",
       "\t<li>414</li>\n",
       "\t<li>415</li>\n",
       "\t<li>416</li>\n",
       "\t<li>417</li>\n",
       "\t<li>418</li>\n",
       "\t<li>419</li>\n",
       "\t<li>420</li>\n",
       "\t<li>421</li>\n",
       "\t<li>423</li>\n",
       "\t<li>426</li>\n",
       "\t<li>427</li>\n",
       "\t<li>428</li>\n",
       "\t<li>430</li>\n",
       "\t<li>432</li>\n",
       "\t<li>435</li>\n",
       "\t<li>436</li>\n",
       "\t<li>437</li>\n",
       "\t<li>438</li>\n",
       "\t<li>439</li>\n",
       "\t<li>445</li>\n",
       "\t<li>446</li>\n",
       "\t<li>455</li>\n",
       "</ol>\n"
      ],
      "text/latex": [
       "\\begin{enumerate*}\n",
       "\\item 196\n",
       "\\item 197\n",
       "\\item 198\n",
       "\\item 199\n",
       "\\item 204\n",
       "\\item 205\n",
       "\\item 258\n",
       "\\item 263\n",
       "\\item 268\n",
       "\\item 284\n",
       "\\item 287\n",
       "\\item 352\n",
       "\\item 353\n",
       "\\item 354\n",
       "\\item 355\n",
       "\\item 356\n",
       "\\item 368\n",
       "\\item 374\n",
       "\\item 375\n",
       "\\item 385\n",
       "\\item 387\n",
       "\\item 388\n",
       "\\item 400\n",
       "\\item 405\n",
       "\\item 407\n",
       "\\item 408\n",
       "\\item 410\n",
       "\\item 411\n",
       "\\item 412\n",
       "\\item 413\n",
       "\\item 414\n",
       "\\item 415\n",
       "\\item 416\n",
       "\\item 417\n",
       "\\item 418\n",
       "\\item 419\n",
       "\\item 420\n",
       "\\item 421\n",
       "\\item 423\n",
       "\\item 426\n",
       "\\item 427\n",
       "\\item 428\n",
       "\\item 430\n",
       "\\item 432\n",
       "\\item 435\n",
       "\\item 436\n",
       "\\item 437\n",
       "\\item 438\n",
       "\\item 439\n",
       "\\item 445\n",
       "\\item 446\n",
       "\\item 455\n",
       "\\end{enumerate*}\n"
      ],
      "text/markdown": [
       "1. 196\n",
       "2. 197\n",
       "3. 198\n",
       "4. 199\n",
       "5. 204\n",
       "6. 205\n",
       "7. 258\n",
       "8. 263\n",
       "9. 268\n",
       "10. 284\n",
       "11. 287\n",
       "12. 352\n",
       "13. 353\n",
       "14. 354\n",
       "15. 355\n",
       "16. 356\n",
       "17. 368\n",
       "18. 374\n",
       "19. 375\n",
       "20. 385\n",
       "21. 387\n",
       "22. 388\n",
       "23. 400\n",
       "24. 405\n",
       "25. 407\n",
       "26. 408\n",
       "27. 410\n",
       "28. 411\n",
       "29. 412\n",
       "30. 413\n",
       "31. 414\n",
       "32. 415\n",
       "33. 416\n",
       "34. 417\n",
       "35. 418\n",
       "36. 419\n",
       "37. 420\n",
       "38. 421\n",
       "39. 423\n",
       "40. 426\n",
       "41. 427\n",
       "42. 428\n",
       "43. 430\n",
       "44. 432\n",
       "45. 435\n",
       "46. 436\n",
       "47. 437\n",
       "48. 438\n",
       "49. 439\n",
       "50. 445\n",
       "51. 446\n",
       "52. 455\n",
       "\n",
       "\n"
      ],
      "text/plain": [
       " [1] 196 197 198 199 204 205 258 263 268 284 287 352 353 354 355 356 368 374 375\n",
       "[20] 385 387 388 400 405 407 408 410 411 412 413 414 415 416 417 418 419 420 421\n",
       "[39] 423 426 427 428 430 432 435 436 437 438 439 445 446 455\n",
       "208 Levels: 103 119 135 142 146 147 152 153 154 155 156 157 161 163 164 ... 99"
      ]
     },
     "metadata": {},
     "output_type": "display_data"
    }
   ],
   "source": [
    "get_outlier_rows <- function(col_, df, param=1.5){\n",
    "    quantile_ = quantile(df[[col_]])\n",
    "    Q1 = quantile_[2]\n",
    "    Q3 = quantile_[4]\n",
    "    cat(\"Q1: \", Q1, \"and Q3: \", Q3, \"\\n\")\n",
    "    tukey_window = param*(Q3-Q1)\n",
    "    outliers <- df[df[[col_]] < (Q1 - tukey_window) | df[[col_]] > Q3 + tukey_window,]\n",
    "    rownames(outliers)\n",
    "}\n",
    "\n",
    "outlier_rows <- sapply(colnames(housing_features), get_outlier_rows, df=housing_features)\n",
    "row_df <- data.frame(table(unlist(outlier_rows)))\n",
    "row_df[row_df$Freq > 1,]$Var1"
   ]
  },
  {
   "cell_type": "markdown",
   "metadata": {},
   "source": [
    "### Assess what percentage of the total data are outliers for:\n",
    "    - one feature\n",
    "    - two features\n",
    "    - other"
   ]
  },
  {
   "cell_type": "code",
   "execution_count": 5,
   "metadata": {},
   "outputs": [
    {
     "name": "stdout",
     "output_type": "stream",
     "text": [
      "1 feature outlier 0.3083004 \n",
      "2 feature outlier 0.09090909 \n",
      "3 or more feature outlier 0.01185771 \n"
     ]
    }
   ],
   "source": [
    "one_feature_outlier = length(row_df[row_df$Freq == 1,]$Var1)\n",
    "two_feature_outlier = length(row_df[row_df$Freq == 2,]$Var1)\n",
    "three_or_more_feature_outlier = length(row_df[row_df$Freq > 2,]$Var1)\n",
    "cat(\"1 feature outlier\", one_feature_outlier / 506, '\\n')\n",
    "cat(\"2 feature outlier\", two_feature_outlier / 506, '\\n')\n",
    "cat(\"3 or more feature outlier\", three_or_more_feature_outlier / 506, '\\n')"
   ]
  },
  {
   "cell_type": "markdown",
   "metadata": {},
   "source": [
    "### Come up with a plan for handling outliers"
   ]
  },
  {
   "cell_type": "markdown",
   "metadata": {},
   "source": [
    "    1. Imputation with mean / median / mode\n",
    "    2. Capping observations outside the lower limit with the value of 5th percentile \n",
    "        and those that lie above the upper limit, with the value of 95th percentile\n",
    "    3. Replacing the value with NaN"
   ]
  },
  {
   "cell_type": "code",
   "execution_count": null,
   "metadata": {},
   "outputs": [],
   "source": []
  }
 ],
 "metadata": {
  "kernelspec": {
   "display_name": "R",
   "language": "R",
   "name": "ir"
  },
  "language_info": {
   "codemirror_mode": "r",
   "file_extension": ".r",
   "mimetype": "text/x-r-source",
   "name": "R",
   "pygments_lexer": "r",
   "version": "3.3.2"
  }
 },
 "nbformat": 4,
 "nbformat_minor": 2
}
